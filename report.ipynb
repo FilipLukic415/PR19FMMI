{
 "cells": [
  {
   "cell_type": "markdown",
   "metadata": {},
   "source": [
    "# Project: Traffic in Slovenia\n",
    "\n",
    "## Authors\n",
    "Filip Lukić - (your number)<br/>\n",
    "Matej Baša - (your number)<br/>\n",
    "Ilaria Lauriola - (your number)<br/>\n",
    "Matej Rus - 63160280<br/>\n",
    "<br/><br/>\n",
    "## Professor\n",
    "doc. dr. Tomaž Curk\n",
    "## Asistent\n",
    "Amra Omanović\n",
    "<br/><br/>\n",
    "## Recap\n",
    "We decided to research traffic in Slovenia. <br/>\n",
    "The most of our focus went to car accidents.\n",
    "\n",
    "## Goals\n",
    "- Number of car accidents changing over the years\n",
    "- What part of the year has on average the most accidents \n",
    "\n",
    "## Data\n",
    "We gathered data from the next sources:<br/>\n",
    "- [OPSI](https://podatki.gov.si/data/search?open_data=True&all_podrocje=Promet%20in%20infrastruktura)(Odprti Podatki Slovenije)\n",
    "\n",
    "## Results\n",
    "\n",
    "### Percentage of accidents from 2003 to 2014\n",
    "![alt text](https://raw.githubusercontent.com/FilipLukic415/PR19FMMI/master/Delez%20nesrec%20po%20mesecih.PNG)\n",
    "\n",
    "\n",
    "As we can see on average the most accidents happens in October.  Surprisingly the least accidents happens in winter.\n",
    "\n",
    "That is probably because of weather. It is snowing the roads are in condition where you cannot develop high-speed, and you probably pay extra attention when you drive.\n",
    "\n",
    "### Number of accidents for each year from 2003 to 2014\n",
    "![alt text](https://raw.githubusercontent.com/FilipLukic415/PR19FMMI/master/SteviloNesrecPolLetih.PNG)\n",
    "The number of accidents was cut in half from 2003 to 2014.\n",
    "\n",
    "We assume that this is because of bigger fines and safety technology in cars improved over time."
   ]
  },
  {
   "cell_type": "code",
   "execution_count": null,
   "metadata": {},
   "outputs": [],
   "source": []
  }
 ],
 "metadata": {
  "kernelspec": {
   "display_name": "Python 3",
   "language": "python",
   "name": "python3"
  },
  "language_info": {
   "codemirror_mode": {
    "name": "ipython",
    "version": 3
   },
   "file_extension": ".py",
   "mimetype": "text/x-python",
   "name": "python",
   "nbconvert_exporter": "python",
   "pygments_lexer": "ipython3",
   "version": "3.7.0"
  }
 },
 "nbformat": 4,
 "nbformat_minor": 2
}
